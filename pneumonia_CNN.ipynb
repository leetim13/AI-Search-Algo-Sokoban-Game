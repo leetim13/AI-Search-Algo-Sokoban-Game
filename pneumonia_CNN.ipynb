{
  "nbformat": 4,
  "nbformat_minor": 0,
  "metadata": {
    "colab": {
      "name": "pneumonia_CNN.ipynb",
      "provenance": [],
      "collapsed_sections": []
    },
    "kernelspec": {
      "display_name": "Python 3",
      "name": "python3"
    },
    "language_info": {
      "name": "python"
    },
    "accelerator": "TPU"
  },
  "cells": [
    {
      "cell_type": "code",
      "metadata": {
        "id": "_cMG5zGPTckP"
      },
      "source": [
        "import numpy as np\n",
        "import matplotlib.pyplot as plt\n",
        "%matplotlib inline\n",
        "import pandas as pd\n",
        "import tensorflow as tf\n",
        "from tensorflow import keras\n",
        "from sklearn.model_selection import train_test_split\n",
        "from skimage.transform import resize\n",
        "from sklearn.metrics import classification_report,confusion_matrix"
      ],
      "execution_count": 5,
      "outputs": []
    },
    {
      "cell_type": "code",
      "metadata": {
        "colab": {
          "base_uri": "https://localhost:8080/"
        },
        "id": "Y16PWBlsROFR",
        "outputId": "039245c9-9422-43d6-989a-9e6e8c2fc265"
      },
      "source": [
        "from google.colab import drive\n",
        "drive.mount('/content/drive')"
      ],
      "execution_count": 39,
      "outputs": [
        {
          "output_type": "stream",
          "text": [
            "Drive already mounted at /content/drive; to attempt to forcibly remount, call drive.mount(\"/content/drive\", force_remount=True).\n"
          ],
          "name": "stdout"
        }
      ]
    },
    {
      "cell_type": "markdown",
      "metadata": {
        "id": "yVu_04g5kb0x"
      },
      "source": [
        "# Loading datasets and image resizing (for transfer learning models)"
      ]
    },
    {
      "cell_type": "code",
      "metadata": {
        "id": "QlGDNynkTdv_"
      },
      "source": [
        "data = np.load(\"/content/drive/MyDrive/Colab Notebooks/pneumoniamnist.npz\")"
      ],
      "execution_count": 93,
      "outputs": []
    },
    {
      "cell_type": "code",
      "metadata": {
        "colab": {
          "base_uri": "https://localhost:8080/"
        },
        "id": "IWEZPtxCUWE3",
        "outputId": "2b4e71d2-3f80-498c-90a5-c5c1b8ae8b2f"
      },
      "source": [
        "lst = data.files\n",
        "lst"
      ],
      "execution_count": 94,
      "outputs": [
        {
          "output_type": "execute_result",
          "data": {
            "text/plain": [
              "['train_images',\n",
              " 'val_images',\n",
              " 'test_images',\n",
              " 'train_labels',\n",
              " 'val_labels',\n",
              " 'test_labels']"
            ]
          },
          "metadata": {
            "tags": []
          },
          "execution_count": 94
        }
      ]
    },
    {
      "cell_type": "code",
      "metadata": {
        "id": "G7xP3stiSduJ"
      },
      "source": [
        "train_img_resize = np.load(\"/content/drive/MyDrive/Colab Notebooks/train_img_resize.npy\")\n",
        "val_img_resize = np.load(\"/content/drive/MyDrive/Colab Notebooks/val_img_resize.npy\")\n",
        "test_img_resize = np.load(\"/content/drive/MyDrive/Colab Notebooks/test_img_resize.npy\")"
      ],
      "execution_count": 95,
      "outputs": []
    },
    {
      "cell_type": "code",
      "metadata": {
        "id": "nOy5XK7GUwxb"
      },
      "source": [
        "# resize image\n",
        "# train_img_resize = [resize(data['train_images'][i], (32, 32)) for i in range(len(data['train_images']))]\n",
        "# val_img_resize = [resize(data['val_images'][i], (32, 32)) for i in range(len(data['val_images']))]\n",
        "# test_img_resize= [resize(data['test_images'][i], (32, 32)) for i in range(len(data['test_images']))] \n",
        "\n",
        "# np.save(\"/content/drive/MyDrive/Colab Notebooks/val_img_resize.npy\", val_img_resize)"
      ],
      "execution_count": 96,
      "outputs": []
    },
    {
      "cell_type": "code",
      "metadata": {
        "colab": {
          "base_uri": "https://localhost:8080/",
          "height": 337
        },
        "id": "SS6w_4kzuqNw",
        "outputId": "eac90c50-714e-4fc9-859a-6a0db1605ff3"
      },
      "source": [
        "fig = plt.figure\n",
        "plt.imshow(train_img_resize[0])\n",
        "plt.title(data['train_labels'][6])\n",
        "plt.show()"
      ],
      "execution_count": 97,
      "outputs": [
        {
          "output_type": "stream",
          "text": [
            "/usr/local/lib/python3.7/dist-packages/matplotlib/text.py:1165: FutureWarning: elementwise comparison failed; returning scalar instead, but in the future will perform elementwise comparison\n",
            "  if s != self._text:\n"
          ],
          "name": "stderr"
        },
        {
          "output_type": "display_data",
          "data": {
            "image/png": "[encoded data removed]",
            "text/plain": [
              "<Figure size 432x288 with 1 Axes>"
            ]
          },
          "metadata": {
            "tags": [],
            "needs_background": "light"
          }
        }
      ]
    },
    {
      "cell_type": "code",
      "metadata": {
        "colab": {
          "base_uri": "https://localhost:8080/"
        },
        "id": "SRm6WYxAZ3m6",
        "outputId": "ee7f0fd9-987c-4e92-be30-f0f2f2ac671c"
      },
      "source": [
        "print(\"originial shape:\",data['train_images'][0].shape, \"\\nresized shape: \", train_img_resize[0].shape)"
      ],
      "execution_count": 98,
      "outputs": [
        {
          "output_type": "stream",
          "text": [
            "originial shape: (28, 28) \n",
            "resized shape:  (32, 32)\n"
          ],
          "name": "stdout"
        }
      ]
    },
    {
      "cell_type": "code",
      "metadata": {
        "colab": {
          "base_uri": "https://localhost:8080/",
          "height": 420
        },
        "id": "2ZWIEDY-XUVI",
        "outputId": "25fd941b-e9e7-4e82-d436-88f15b723604"
      },
      "source": [
        "num =15\n",
        "images = train_img_resize[:num]\n",
        "labels = data['train_labels'][:num]\n",
        "num_row = 3\n",
        "num_col = 5\n",
        "# plot images\n",
        "fig, axes = plt.subplots(num_row, num_col, figsize=(1.5*num_col,2*num_row))\n",
        "for i in range(num):\n",
        "    ax = axes[i//num_col, i%num_col]\n",
        "    ax.imshow(images[i])\n",
        "    ax.set_title('Label: {}'.format(labels[i]))\n",
        "plt.tight_layout()\n",
        "plt.show()"
      ],
      "execution_count": 99,
      "outputs": [
        {
          "output_type": "display_data",
          "data": {
            "image/png": "[encoded data removed]",
            "text/plain": [
              "<Figure size 540x432 with 15 Axes>"
            ]
          },
          "metadata": {
            "tags": [],
            "needs_background": "light"
          }
        }
      ]
    },
    {
      "cell_type": "markdown",
      "metadata": {
        "id": "ZgLRLsFolRp5"
      },
      "source": [
        "# Basline Sequential NN model"
      ]
    },
    {
      "cell_type": "code",
      "metadata": {
        "colab": {
          "base_uri": "https://localhost:8080/"
        },
        "id": "RQ0-CxUsYKHo",
        "outputId": "c48149d3-79f8-4a5e-ecf2-6d847a0c8444"
      },
      "source": [
        "# model 1 (CNN full layers with dropout)\n",
        "from keras.models import Sequential\n",
        "from keras.layers import Dense, Conv2D , MaxPool2D , Flatten , Dropout , BatchNormalization\n",
        "tf.keras.backend.clear_session()\n",
        "model = Sequential()\n",
        "model.add(Conv2D(32 , (3,3) , strides = 1 , padding = 'same' , activation = 'relu' , input_shape = (32,32,1)))\n",
        "model.add(BatchNormalization())\n",
        "model.add(MaxPool2D((2,2) , strides = 2 , padding = 'same'))\n",
        "model.add(Conv2D(64 , (3,3) , strides = 1 , padding = 'same' , activation = 'relu'))\n",
        "model.add(Dropout(0.1))\n",
        "model.add(BatchNormalization())\n",
        "model.add(MaxPool2D((2,2) , strides = 2 , padding = 'same'))\n",
        "model.add(Conv2D(64 , (3,3) , strides = 1 , padding = 'same' , activation = 'relu'))\n",
        "model.add(BatchNormalization())\n",
        "model.add(MaxPool2D((2,2) , strides = 2 , padding = 'same'))\n",
        "model.add(Conv2D(128 , (3,3) , strides = 1 , padding = 'same' , activation = 'relu'))\n",
        "model.add(Dropout(0.2))\n",
        "model.add(BatchNormalization())\n",
        "model.add(MaxPool2D((2,2) , strides = 2 , padding = 'same'))\n",
        "model.add(Conv2D(256 , (3,3) , strides = 1 , padding = 'same' , activation = 'relu'))\n",
        "model.add(Dropout(0.2))\n",
        "model.add(BatchNormalization())\n",
        "model.add(MaxPool2D((2,2) , strides = 2 , padding = 'same'))\n",
        "model.add(Flatten())\n",
        "model.add(Dense(units = 128 , activation = 'relu'))\n",
        "model.add(Dropout(0.2))\n",
        "model.add(Dense(units = 1 , activation = 'sigmoid'))\n",
        "model.compile(optimizer = \"rmsprop\" , loss = 'binary_crossentropy' , metrics = ['accuracy'])\n",
        "model.summary()"
      ],
      "execution_count": 100,
      "outputs": [
        {
          "output_type": "stream",
          "text": [
            "Model: \"sequential\"\n",
            "_________________________________________________________________\n",
            "Layer (type)                 Output Shape              Param #   \n",
            "=================================================================\n",
            "conv2d (Conv2D)              (None, 32, 32, 32)        320       \n",
            "_________________________________________________________________\n",
            "batch_normalization (BatchNo (None, 32, 32, 32)        128       \n",
            "_________________________________________________________________\n",
            "max_pooling2d (MaxPooling2D) (None, 16, 16, 32)        0         \n",
            "_________________________________________________________________\n",
            "conv2d_1 (Conv2D)            (None, 16, 16, 64)        18496     \n",
            "_________________________________________________________________\n",
            "dropout (Dropout)            (None, 16, 16, 64)        0         \n",
            "_________________________________________________________________\n",
            "batch_normalization_1 (Batch (None, 16, 16, 64)        256       \n",
            "_________________________________________________________________\n",
            "max_pooling2d_1 (MaxPooling2 (None, 8, 8, 64)          0         \n",
            "_________________________________________________________________\n",
            "conv2d_2 (Conv2D)            (None, 8, 8, 64)          36928     \n",
            "_________________________________________________________________\n",
            "batch_normalization_2 (Batch (None, 8, 8, 64)          256       \n",
            "_________________________________________________________________\n",
            "max_pooling2d_2 (MaxPooling2 (None, 4, 4, 64)          0         \n",
            "_________________________________________________________________\n",
            "conv2d_3 (Conv2D)            (None, 4, 4, 128)         73856     \n",
            "_________________________________________________________________\n",
            "dropout_1 (Dropout)          (None, 4, 4, 128)         0         \n",
            "_________________________________________________________________\n",
            "batch_normalization_3 (Batch (None, 4, 4, 128)         512       \n",
            "_________________________________________________________________\n",
            "max_pooling2d_3 (MaxPooling2 (None, 2, 2, 128)         0         \n",
            "_________________________________________________________________\n",
            "conv2d_4 (Conv2D)            (None, 2, 2, 256)         295168    \n",
            "_________________________________________________________________\n",
            "dropout_2 (Dropout)          (None, 2, 2, 256)         0         \n",
            "_________________________________________________________________\n",
            "batch_normalization_4 (Batch (None, 2, 2, 256)         1024      \n",
            "_________________________________________________________________\n",
            "max_pooling2d_4 (MaxPooling2 (None, 1, 1, 256)         0         \n",
            "_________________________________________________________________\n",
            "flatten (Flatten)            (None, 256)               0         \n",
            "_________________________________________________________________\n",
            "dense (Dense)                (None, 128)               32896     \n",
            "_________________________________________________________________\n",
            "dropout_3 (Dropout)          (None, 128)               0         \n",
            "_________________________________________________________________\n",
            "dense_1 (Dense)              (None, 1)                 129       \n",
            "=================================================================\n",
            "Total params: 459,969\n",
            "Trainable params: 458,881\n",
            "Non-trainable params: 1,088\n",
            "_________________________________________________________________\n"
          ],
          "name": "stdout"
        }
      ]
    },
    {
      "cell_type": "markdown",
      "metadata": {
        "id": "fjrtnRTjSVa2"
      },
      "source": [
        "## Tensorflow TPU acceleration"
      ]
    },
    {
      "cell_type": "code",
      "metadata": {
        "colab": {
          "base_uri": "https://localhost:8080/"
        },
        "id": "wgLs5clGSU7d",
        "outputId": "670219df-94b3-4e7e-c6ff-589463ab147e"
      },
      "source": [
        "import os\n",
        "import tensorflow as tf\n",
        "\n",
        "assert 'COLAB_TPU_ADDR' in os.environ, 'Missing TPU; did you request a TPU in Notebook Settings?'\n",
        "\n",
        "TF_MASTER = 'grpc://{}'.format(os.environ['COLAB_TPU_ADDR'])\n",
        "\n",
        "resolver = tf.distribute.cluster_resolver.TPUClusterResolver(TF_MASTER)\n",
        "tf.config.experimental_connect_to_cluster(resolver)\n",
        "tf.tpu.experimental.initialize_tpu_system(resolver)\n",
        "strategy = tf.distribute.experimental.TPUStrategy(resolver)"
      ],
      "execution_count": 30,
      "outputs": [
        {
          "output_type": "stream",
          "text": [
            "WARNING:tensorflow:TPU system grpc://10.91.173.90:8470 has already been initialized. Reinitializing the TPU can cause previously created variables on TPU to be lost.\n"
          ],
          "name": "stdout"
        },
        {
          "output_type": "stream",
          "text": [
            "WARNING:tensorflow:TPU system grpc://10.91.173.90:8470 has already been initialized. Reinitializing the TPU can cause previously created variables on TPU to be lost.\n"
          ],
          "name": "stderr"
        },
        {
          "output_type": "stream",
          "text": [
            "INFO:tensorflow:Initializing the TPU system: grpc://10.91.173.90:8470\n"
          ],
          "name": "stdout"
        },
        {
          "output_type": "stream",
          "text": [
            "INFO:tensorflow:Initializing the TPU system: grpc://10.91.173.90:8470\n"
          ],
          "name": "stderr"
        },
        {
          "output_type": "stream",
          "text": [
            "INFO:tensorflow:Clearing out eager caches\n"
          ],
          "name": "stdout"
        },
        {
          "output_type": "stream",
          "text": [
            "INFO:tensorflow:Clearing out eager caches\n"
          ],
          "name": "stderr"
        },
        {
          "output_type": "stream",
          "text": [
            "INFO:tensorflow:Finished initializing TPU system.\n"
          ],
          "name": "stdout"
        },
        {
          "output_type": "stream",
          "text": [
            "INFO:tensorflow:Finished initializing TPU system.\n",
            "WARNING:absl:`tf.distribute.experimental.TPUStrategy` is deprecated, please use  the non experimental symbol `tf.distribute.TPUStrategy` instead.\n"
          ],
          "name": "stderr"
        },
        {
          "output_type": "stream",
          "text": [
            "INFO:tensorflow:Found TPU system:\n"
          ],
          "name": "stdout"
        },
        {
          "output_type": "stream",
          "text": [
            "INFO:tensorflow:Found TPU system:\n"
          ],
          "name": "stderr"
        },
        {
          "output_type": "stream",
          "text": [
            "INFO:tensorflow:*** Num TPU Cores: 8\n"
          ],
          "name": "stdout"
        },
        {
          "output_type": "stream",
          "text": [
            "INFO:tensorflow:*** Num TPU Cores: 8\n"
          ],
          "name": "stderr"
        },
        {
          "output_type": "stream",
          "text": [
            "INFO:tensorflow:*** Num TPU Workers: 1\n"
          ],
          "name": "stdout"
        },
        {
          "output_type": "stream",
          "text": [
            "INFO:tensorflow:*** Num TPU Workers: 1\n"
          ],
          "name": "stderr"
        },
        {
          "output_type": "stream",
          "text": [
            "INFO:tensorflow:*** Num TPU Cores Per Worker: 8\n"
          ],
          "name": "stdout"
        },
        {
          "output_type": "stream",
          "text": [
            "INFO:tensorflow:*** Num TPU Cores Per Worker: 8\n"
          ],
          "name": "stderr"
        },
        {
          "output_type": "stream",
          "text": [
            "INFO:tensorflow:*** Available Device: _DeviceAttributes(/job:localhost/replica:0/task:0/device:CPU:0, CPU, 0, 0)\n"
          ],
          "name": "stdout"
        },
        {
          "output_type": "stream",
          "text": [
            "INFO:tensorflow:*** Available Device: _DeviceAttributes(/job:localhost/replica:0/task:0/device:CPU:0, CPU, 0, 0)\n"
          ],
          "name": "stderr"
        },
        {
          "output_type": "stream",
          "text": [
            "INFO:tensorflow:*** Available Device: _DeviceAttributes(/job:worker/replica:0/task:0/device:CPU:0, CPU, 0, 0)\n"
          ],
          "name": "stdout"
        },
        {
          "output_type": "stream",
          "text": [
            "INFO:tensorflow:*** Available Device: _DeviceAttributes(/job:worker/replica:0/task:0/device:CPU:0, CPU, 0, 0)\n"
          ],
          "name": "stderr"
        },
        {
          "output_type": "stream",
          "text": [
            "INFO:tensorflow:*** Available Device: _DeviceAttributes(/job:worker/replica:0/task:0/device:TPU:0, TPU, 0, 0)\n"
          ],
          "name": "stdout"
        },
        {
          "output_type": "stream",
          "text": [
            "INFO:tensorflow:*** Available Device: _DeviceAttributes(/job:worker/replica:0/task:0/device:TPU:0, TPU, 0, 0)\n"
          ],
          "name": "stderr"
        },
        {
          "output_type": "stream",
          "text": [
            "INFO:tensorflow:*** Available Device: _DeviceAttributes(/job:worker/replica:0/task:0/device:TPU:1, TPU, 0, 0)\n"
          ],
          "name": "stdout"
        },
        {
          "output_type": "stream",
          "text": [
            "INFO:tensorflow:*** Available Device: _DeviceAttributes(/job:worker/replica:0/task:0/device:TPU:1, TPU, 0, 0)\n"
          ],
          "name": "stderr"
        },
        {
          "output_type": "stream",
          "text": [
            "INFO:tensorflow:*** Available Device: _DeviceAttributes(/job:worker/replica:0/task:0/device:TPU:2, TPU, 0, 0)\n"
          ],
          "name": "stdout"
        },
        {
          "output_type": "stream",
          "text": [
            "INFO:tensorflow:*** Available Device: _DeviceAttributes(/job:worker/replica:0/task:0/device:TPU:2, TPU, 0, 0)\n"
          ],
          "name": "stderr"
        },
        {
          "output_type": "stream",
          "text": [
            "INFO:tensorflow:*** Available Device: _DeviceAttributes(/job:worker/replica:0/task:0/device:TPU:3, TPU, 0, 0)\n"
          ],
          "name": "stdout"
        },
        {
          "output_type": "stream",
          "text": [
            "INFO:tensorflow:*** Available Device: _DeviceAttributes(/job:worker/replica:0/task:0/device:TPU:3, TPU, 0, 0)\n"
          ],
          "name": "stderr"
        },
        {
          "output_type": "stream",
          "text": [
            "INFO:tensorflow:*** Available Device: _DeviceAttributes(/job:worker/replica:0/task:0/device:TPU:4, TPU, 0, 0)\n"
          ],
          "name": "stdout"
        },
        {
          "output_type": "stream",
          "text": [
            "INFO:tensorflow:*** Available Device: _DeviceAttributes(/job:worker/replica:0/task:0/device:TPU:4, TPU, 0, 0)\n"
          ],
          "name": "stderr"
        },
        {
          "output_type": "stream",
          "text": [
            "INFO:tensorflow:*** Available Device: _DeviceAttributes(/job:worker/replica:0/task:0/device:TPU:5, TPU, 0, 0)\n"
          ],
          "name": "stdout"
        },
        {
          "output_type": "stream",
          "text": [
            "INFO:tensorflow:*** Available Device: _DeviceAttributes(/job:worker/replica:0/task:0/device:TPU:5, TPU, 0, 0)\n"
          ],
          "name": "stderr"
        },
        {
          "output_type": "stream",
          "text": [
            "INFO:tensorflow:*** Available Device: _DeviceAttributes(/job:worker/replica:0/task:0/device:TPU:6, TPU, 0, 0)\n"
          ],
          "name": "stdout"
        },
        {
          "output_type": "stream",
          "text": [
            "INFO:tensorflow:*** Available Device: _DeviceAttributes(/job:worker/replica:0/task:0/device:TPU:6, TPU, 0, 0)\n"
          ],
          "name": "stderr"
        },
        {
          "output_type": "stream",
          "text": [
            "INFO:tensorflow:*** Available Device: _DeviceAttributes(/job:worker/replica:0/task:0/device:TPU:7, TPU, 0, 0)\n"
          ],
          "name": "stdout"
        },
        {
          "output_type": "stream",
          "text": [
            "INFO:tensorflow:*** Available Device: _DeviceAttributes(/job:worker/replica:0/task:0/device:TPU:7, TPU, 0, 0)\n"
          ],
          "name": "stderr"
        },
        {
          "output_type": "stream",
          "text": [
            "INFO:tensorflow:*** Available Device: _DeviceAttributes(/job:worker/replica:0/task:0/device:TPU_SYSTEM:0, TPU_SYSTEM, 0, 0)\n"
          ],
          "name": "stdout"
        },
        {
          "output_type": "stream",
          "text": [
            "INFO:tensorflow:*** Available Device: _DeviceAttributes(/job:worker/replica:0/task:0/device:TPU_SYSTEM:0, TPU_SYSTEM, 0, 0)\n"
          ],
          "name": "stderr"
        },
        {
          "output_type": "stream",
          "text": [
            "INFO:tensorflow:*** Available Device: _DeviceAttributes(/job:worker/replica:0/task:0/device:XLA_CPU:0, XLA_CPU, 0, 0)\n"
          ],
          "name": "stdout"
        },
        {
          "output_type": "stream",
          "text": [
            "INFO:tensorflow:*** Available Device: _DeviceAttributes(/job:worker/replica:0/task:0/device:XLA_CPU:0, XLA_CPU, 0, 0)\n"
          ],
          "name": "stderr"
        }
      ]
    },
    {
      "cell_type": "code",
      "metadata": {
        "colab": {
          "base_uri": "https://localhost:8080/"
        },
        "id": "XFIuZK91S3jz",
        "outputId": "a8eb8ef8-9437-4d8b-f40e-ae5e39558fa0"
      },
      "source": [
        "# Build mlp\n",
        "with strategy.scope():\n",
        "    cnn_model = model\n",
        "print(\"CNN_model architecture:\")\n",
        "cnn_model.summary()"
      ],
      "execution_count": 101,
      "outputs": [
        {
          "output_type": "stream",
          "text": [
            "CNN_model architecture:\n",
            "Model: \"sequential\"\n",
            "_________________________________________________________________\n",
            "Layer (type)                 Output Shape              Param #   \n",
            "=================================================================\n",
            "conv2d (Conv2D)              (None, 32, 32, 32)        320       \n",
            "_________________________________________________________________\n",
            "batch_normalization (BatchNo (None, 32, 32, 32)        128       \n",
            "_________________________________________________________________\n",
            "max_pooling2d (MaxPooling2D) (None, 16, 16, 32)        0         \n",
            "_________________________________________________________________\n",
            "conv2d_1 (Conv2D)            (None, 16, 16, 64)        18496     \n",
            "_________________________________________________________________\n",
            "dropout (Dropout)            (None, 16, 16, 64)        0         \n",
            "_________________________________________________________________\n",
            "batch_normalization_1 (Batch (None, 16, 16, 64)        256       \n",
            "_________________________________________________________________\n",
            "max_pooling2d_1 (MaxPooling2 (None, 8, 8, 64)          0         \n",
            "_________________________________________________________________\n",
            "conv2d_2 (Conv2D)            (None, 8, 8, 64)          36928     \n",
            "_________________________________________________________________\n",
            "batch_normalization_2 (Batch (None, 8, 8, 64)          256       \n",
            "_________________________________________________________________\n",
            "max_pooling2d_2 (MaxPooling2 (None, 4, 4, 64)          0         \n",
            "_________________________________________________________________\n",
            "conv2d_3 (Conv2D)            (None, 4, 4, 128)         73856     \n",
            "_________________________________________________________________\n",
            "dropout_1 (Dropout)          (None, 4, 4, 128)         0         \n",
            "_________________________________________________________________\n",
            "batch_normalization_3 (Batch (None, 4, 4, 128)         512       \n",
            "_________________________________________________________________\n",
            "max_pooling2d_3 (MaxPooling2 (None, 2, 2, 128)         0         \n",
            "_________________________________________________________________\n",
            "conv2d_4 (Conv2D)            (None, 2, 2, 256)         295168    \n",
            "_________________________________________________________________\n",
            "dropout_2 (Dropout)          (None, 2, 2, 256)         0         \n",
            "_________________________________________________________________\n",
            "batch_normalization_4 (Batch (None, 2, 2, 256)         1024      \n",
            "_________________________________________________________________\n",
            "max_pooling2d_4 (MaxPooling2 (None, 1, 1, 256)         0         \n",
            "_________________________________________________________________\n",
            "flatten (Flatten)            (None, 256)               0         \n",
            "_________________________________________________________________\n",
            "dense (Dense)                (None, 128)               32896     \n",
            "_________________________________________________________________\n",
            "dropout_3 (Dropout)          (None, 128)               0         \n",
            "_________________________________________________________________\n",
            "dense_1 (Dense)              (None, 1)                 129       \n",
            "=================================================================\n",
            "Total params: 459,969\n",
            "Trainable params: 458,881\n",
            "Non-trainable params: 1,088\n",
            "_________________________________________________________________\n"
          ],
          "name": "stdout"
        }
      ]
    },
    {
      "cell_type": "code",
      "metadata": {
        "colab": {
          "base_uri": "https://localhost:8080/"
        },
        "id": "WH9xHgO1UK9E",
        "outputId": "0ca4090a-75d3-4029-8f7d-b2e4cda8b2a2"
      },
      "source": [
        "train_img_resize[0].shape"
      ],
      "execution_count": 102,
      "outputs": [
        {
          "output_type": "execute_result",
          "data": {
            "text/plain": [
              "(32, 32)"
            ]
          },
          "metadata": {
            "tags": []
          },
          "execution_count": 102
        }
      ]
    },
    {
      "cell_type": "markdown",
      "metadata": {
        "id": "kfj0XnQFYCy3"
      },
      "source": [
        "# Train TPU model"
      ]
    },
    {
      "cell_type": "code",
      "metadata": {
        "colab": {
          "base_uri": "https://localhost:8080/"
        },
        "id": "qUzb6L4oZC_P",
        "outputId": "18883e28-ff93-4b84-a4da-f5636ccf0ca1"
      },
      "source": [
        "x_train = train_img_resize\n",
        "x_train = x_train.reshape(-1, 32, 32, 1)\n",
        "y_train = data['train_labels']\n",
        "\n",
        "x_val= val_img_resize\n",
        "x_val= x_val.reshape(-1, 32, 32, 1)\n",
        "y_val = data['val_labels']\n",
        "\n",
        "# load model\n",
        "history = cnn_model.fit(x_train,y_train, batch_size = 32 ,epochs = 12, validation_data=(x_val, y_val))"
      ],
      "execution_count": 103,
      "outputs": [
        {
          "output_type": "stream",
          "text": [
            "Epoch 1/12\n",
            "148/148 [==============================] - 9s 42ms/step - loss: 0.4287 - accuracy: 0.8653 - val_loss: 0.6691 - val_accuracy: 0.7424\n",
            "Epoch 2/12\n",
            "148/148 [==============================] - 5s 37ms/step - loss: 0.1640 - accuracy: 0.9407 - val_loss: 2.0741 - val_accuracy: 0.7443\n",
            "Epoch 3/12\n",
            "148/148 [==============================] - 5s 35ms/step - loss: 0.1234 - accuracy: 0.9492 - val_loss: 0.2785 - val_accuracy: 0.9046\n",
            "Epoch 4/12\n",
            "148/148 [==============================] - 5s 36ms/step - loss: 0.0916 - accuracy: 0.9671 - val_loss: 0.1079 - val_accuracy: 0.9561\n",
            "Epoch 5/12\n",
            "148/148 [==============================] - 5s 36ms/step - loss: 0.0781 - accuracy: 0.9713 - val_loss: 0.1163 - val_accuracy: 0.9561\n",
            "Epoch 6/12\n",
            "148/148 [==============================] - 5s 37ms/step - loss: 0.0623 - accuracy: 0.9792 - val_loss: 0.1048 - val_accuracy: 0.9580\n",
            "Epoch 7/12\n",
            "148/148 [==============================] - 5s 37ms/step - loss: 0.0631 - accuracy: 0.9757 - val_loss: 0.1431 - val_accuracy: 0.9580\n",
            "Epoch 8/12\n",
            "148/148 [==============================] - 5s 37ms/step - loss: 0.0671 - accuracy: 0.9765 - val_loss: 1.3735 - val_accuracy: 0.6870\n",
            "Epoch 9/12\n",
            "148/148 [==============================] - 5s 37ms/step - loss: 0.0561 - accuracy: 0.9799 - val_loss: 0.1816 - val_accuracy: 0.9408\n",
            "Epoch 10/12\n",
            "148/148 [==============================] - 5s 37ms/step - loss: 0.0536 - accuracy: 0.9807 - val_loss: 0.7213 - val_accuracy: 0.8683\n",
            "Epoch 11/12\n",
            "148/148 [==============================] - 5s 35ms/step - loss: 0.0457 - accuracy: 0.9833 - val_loss: 0.1251 - val_accuracy: 0.9561\n",
            "Epoch 12/12\n",
            "148/148 [==============================] - 5s 36ms/step - loss: 0.0426 - accuracy: 0.9846 - val_loss: 0.0791 - val_accuracy: 0.9676\n"
          ],
          "name": "stdout"
        }
      ]
    },
    {
      "cell_type": "markdown",
      "metadata": {
        "id": "jUoZc2NoXwUP"
      },
      "source": [
        "# Save TPU model"
      ]
    },
    {
      "cell_type": "code",
      "metadata": {
        "id": "LdvQJ_44cmlb"
      },
      "source": [
        "cnn_model.save('/content/drive/MyDrive/Colab Notebooks/CNN_model/CNN_model.h5', overwrite=True)"
      ],
      "execution_count": 104,
      "outputs": []
    },
    {
      "cell_type": "markdown",
      "metadata": {
        "id": "FYUQ8tNHX0Wp"
      },
      "source": [
        "# Load TPU model"
      ]
    },
    {
      "cell_type": "code",
      "metadata": {
        "id": "MsOA-8mnX0Wq"
      },
      "source": [
        "cnn_model = tf.keras.models.load_model('/content/drive/MyDrive/Colab Notebooks/CNN_model/CNN_model.h5')"
      ],
      "execution_count": 105,
      "outputs": []
    },
    {
      "cell_type": "code",
      "metadata": {
        "colab": {
          "base_uri": "https://localhost:8080/"
        },
        "id": "biorjl6KXjUA",
        "outputId": "3c41c678-3327-4670-c3e4-1b8c6798fb02"
      },
      "source": [
        "x_test = test_img_resize.reshape(-1, 32, 32, 1)\n",
        "y_test = data['test_labels']\n",
        "predictions = cnn_model.predict_classes(x_test)\n",
        "predictions = predictions.reshape(1,-1)[0]\n",
        "print(classification_report(y_test, predictions, target_names = ['Pneumonia (Class 1)','Normal (Class 0)']))"
      ],
      "execution_count": 106,
      "outputs": [
        {
          "output_type": "stream",
          "text": [
            "/usr/local/lib/python3.7/dist-packages/tensorflow/python/keras/engine/sequential.py:455: UserWarning: `model.predict_classes()` is deprecated and will be removed after 2021-01-01. Please use instead:* `np.argmax(model.predict(x), axis=-1)`,   if your model does multi-class classification   (e.g. if it uses a `softmax` last-layer activation).* `(model.predict(x) > 0.5).astype(\"int32\")`,   if your model does binary classification   (e.g. if it uses a `sigmoid` last-layer activation).\n",
            "  warnings.warn('`model.predict_classes()` is deprecated and '\n"
          ],
          "name": "stderr"
        },
        {
          "output_type": "stream",
          "text": [
            "                     precision    recall  f1-score   support\n",
            "\n",
            "Pneumonia (Class 1)       0.97      0.66      0.79       234\n",
            "   Normal (Class 0)       0.83      0.99      0.90       390\n",
            "\n",
            "           accuracy                           0.87       624\n",
            "          macro avg       0.90      0.82      0.84       624\n",
            "       weighted avg       0.88      0.87      0.86       624\n",
            "\n"
          ],
          "name": "stdout"
        }
      ]
    },
    {
      "cell_type": "code",
      "metadata": {
        "id": "9-J4Y6yOdcfA",
        "colab": {
          "base_uri": "https://localhost:8080/"
        },
        "outputId": "910a7da6-6856-49eb-c8ae-af80b88d391f"
      },
      "source": [
        "# sanity check: accuracy\n",
        "y_test = y_test.reshape(1,-1)[0]\n",
        "len(predictions), len(y_test)\n",
        "np.count_nonzero(predictions==y_test)/len(y_test)"
      ],
      "execution_count": 107,
      "outputs": [
        {
          "output_type": "execute_result",
          "data": {
            "text/plain": [
              "0.8653846153846154"
            ]
          },
          "metadata": {
            "tags": []
          },
          "execution_count": 107
        }
      ]
    },
    {
      "cell_type": "markdown",
      "metadata": {
        "id": "RrzldH9M1162"
      },
      "source": [
        "# Transfer Learning with tensor flow"
      ]
    },
    {
      "cell_type": "code",
      "metadata": {
        "colab": {
          "base_uri": "https://localhost:8080/"
        },
        "id": "ezvCXpQPHrU8",
        "outputId": "ff109990-04ab-4dea-8475-d54ea92cc61e"
      },
      "source": [
        "# grayscale to RGB\n",
        "print(train_img_resize.shape)  #(4708, 32, 32)\n",
        "train_img_resize_rgb_batch = np.repeat(train_img_resize[..., np.newaxis], 3, -1)\n",
        "print(train_img_resize_rgb_batch.shape)  #(4708, 32, 32, 3)\n",
        "\n",
        "print(val_img_resize.shape)  #(524, 32, 32)\n",
        "val_img_resize_rgb_batch = np.repeat(val_img_resize[..., np.newaxis], 3, -1)\n",
        "print(val_img_resize_rgb_batch.shape)  #(524, 32, 32, 3)\n",
        "\n",
        "print(test_img_resize.shape)  #(624, 32, 32)\n",
        "test_img_resize_rgb_batch = np.repeat(test_img_resize[..., np.newaxis], 3, -1)\n",
        "print(test_img_resize_rgb_batch.shape)  #(624, 32, 32, 3)"
      ],
      "execution_count": 159,
      "outputs": [
        {
          "output_type": "stream",
          "text": [
            "(4708, 32, 32)\n",
            "(4708, 32, 32, 3)\n",
            "(524, 32, 32)\n",
            "(524, 32, 32, 3)\n",
            "(624, 32, 32)\n",
            "(624, 32, 32, 3)\n"
          ],
          "name": "stdout"
        }
      ]
    },
    {
      "cell_type": "code",
      "metadata": {
        "id": "jTRSGCVqDdcz"
      },
      "source": [
        "train_dataset = tf.data.Dataset.from_tensor_slices((train_img_resize_rgb_batch, data['train_labels']))\n",
        "validation_dataset = tf.data.Dataset.from_tensor_slices((val_img_resize_rgb_batch, data['val_labels']))\n",
        "test_dataset =  tf.data.Dataset.from_tensor_slices((test_img_resize_rgb_batch, data['test_labels']))\n",
        "\n",
        "BATCH_SIZE = 32\n",
        "SHUFFLE_BUFFER_SIZE = 100\n",
        "\n",
        "train_dataset = train_dataset.shuffle(buffer_size=SHUFFLE_BUFFER_SIZE).batch(BATCH_SIZE)\n",
        "test_dataset = test_dataset.batch(BATCH_SIZE)\n",
        "validation_dataset = validation_dataset.batch(BATCH_SIZE)"
      ],
      "execution_count": 160,
      "outputs": []
    },
    {
      "cell_type": "code",
      "metadata": {
        "id": "3tDqn3St2EQe"
      },
      "source": [
        "# preprocess_input = tf.keras.applications.mobilenet_v2.preprocess_input\n",
        "preprocess_input = tf.keras.applications.resnet50.preprocess_input\n",
        "# preprocess_input = tf.keras.applications.resnet_v2.preprocess_input"
      ],
      "execution_count": 161,
      "outputs": []
    },
    {
      "cell_type": "code",
      "metadata": {
        "id": "V9GYcH5a2FId"
      },
      "source": [
        "# resnet_v2.preprocess_input will scale input pixels between -1 and 1 (https://keras.io/api/applications/resnet/)\n",
        "# rescale = tf.keras.layers.experimental.preprocessing.Rescaling(1./127.5, offset= -1)"
      ],
      "execution_count": 162,
      "outputs": []
    },
    {
      "cell_type": "code",
      "metadata": {
        "id": "_GppEjVj6HyB"
      },
      "source": [
        "keras.backend.clear_session()"
      ],
      "execution_count": 224,
      "outputs": []
    },
    {
      "cell_type": "code",
      "metadata": {
        "id": "HA1wzbeY2GsW"
      },
      "source": [
        "BATCH_SIZE = 32\n",
        "IMG_SIZE = (32, 32)\n",
        "IMG_SHAPE = IMG_SIZE + (3,)\n",
        "# IMG_SHAPE = (32,32,1)\n",
        "\n",
        "# MobileNetV2 need minimum of 128x128 ?\n",
        "# base_model = tf.keras.applications.MobileNetV2(input_shape=IMG_SHAPE,\n",
        "#                                                include_top=False,\n",
        "#                                                weights='imagenet')\n",
        "\n",
        "base_model = tf.keras.applications.ResNet50(input_shape=IMG_SHAPE,\n",
        "                                               include_top=False,\n",
        "                                               weights='imagenet')\n",
        "\n",
        "# base_model = tf.keras.applications.ResNet50V2(input_shape=IMG_SHAPE,\n",
        "#                                                include_top=False,\n",
        "#                                                weights='imagenet')"
      ],
      "execution_count": 225,
      "outputs": []
    },
    {
      "cell_type": "code",
      "metadata": {
        "id": "BJ8fv1Pgxgwh",
        "colab": {
          "base_uri": "https://localhost:8080/"
        },
        "outputId": "99a6cb21-fa1c-4b5a-a120-6a366d99af4b"
      },
      "source": [
        "image_batch, label_batch = next(iter(train_dataset))\n",
        "\n",
        "feature_batch = base_model(image_batch)\n",
        "print(feature_batch.shape)"
      ],
      "execution_count": 226,
      "outputs": [
        {
          "output_type": "stream",
          "text": [
            "(32, 1, 1, 2048)\n"
          ],
          "name": "stdout"
        }
      ]
    },
    {
      "cell_type": "code",
      "metadata": {
        "id": "k3K8Hq1YIOzh"
      },
      "source": [
        "base_model.trainable = False"
      ],
      "execution_count": 227,
      "outputs": []
    },
    {
      "cell_type": "code",
      "metadata": {
        "colab": {
          "base_uri": "https://localhost:8080/"
        },
        "id": "A_TMFMgrIajo",
        "outputId": "b79e6658-e94c-4593-c553-21c24ba94af5"
      },
      "source": [
        "global_average_layer = tf.keras.layers.GlobalAveragePooling2D()\n",
        "feature_batch_average = global_average_layer(feature_batch)\n",
        "print(feature_batch_average.shape)"
      ],
      "execution_count": 228,
      "outputs": [
        {
          "output_type": "stream",
          "text": [
            "(32, 2048)\n"
          ],
          "name": "stdout"
        }
      ]
    },
    {
      "cell_type": "code",
      "metadata": {
        "colab": {
          "base_uri": "https://localhost:8080/"
        },
        "id": "QimlDROfIcZ-",
        "outputId": "05b6c100-9d28-4bf5-d974-4ce967010a0a"
      },
      "source": [
        "prediction_layer = tf.keras.layers.Dense(1)\n",
        "prediction_batch = prediction_layer(feature_batch_average)\n",
        "print(prediction_batch.shape)"
      ],
      "execution_count": 229,
      "outputs": [
        {
          "output_type": "stream",
          "text": [
            "(32, 1)\n"
          ],
          "name": "stdout"
        }
      ]
    },
    {
      "cell_type": "code",
      "metadata": {
        "id": "-qV9jAx9IewI"
      },
      "source": [
        "inputs = tf.keras.Input(shape=(32, 32, 3))\n",
        "# x = data_augmentation(inputs)\n",
        "x = preprocess_input(inputs)\n",
        "x = base_model(x, training=False)\n",
        "x = global_average_layer(x)\n",
        "x = tf.keras.layers.Dropout(0.2)(x)\n",
        "outputs = prediction_layer(x)\n",
        "model = tf.keras.Model(inputs, outputs)"
      ],
      "execution_count": 230,
      "outputs": []
    },
    {
      "cell_type": "code",
      "metadata": {
        "id": "flpvJbzGKFM8",
        "colab": {
          "base_uri": "https://localhost:8080/"
        },
        "outputId": "fc8e0894-4b24-44b0-f2a2-347a8880fd5d"
      },
      "source": [
        "base_learning_rate = 0.001\n",
        "model.compile(optimizer=tf.keras.optimizers.Adam(learning_rate=base_learning_rate),\n",
        "              loss=tf.keras.losses.BinaryCrossentropy(from_logits=True),\n",
        "              metrics=['accuracy'])\n",
        "len(model.trainable_variables)"
      ],
      "execution_count": 231,
      "outputs": [
        {
          "output_type": "execute_result",
          "data": {
            "text/plain": [
              "2"
            ]
          },
          "metadata": {
            "tags": []
          },
          "execution_count": 231
        }
      ]
    },
    {
      "cell_type": "code",
      "metadata": {
        "colab": {
          "base_uri": "https://localhost:8080/"
        },
        "id": "l7kGChWUa7Bf",
        "outputId": "c41c5c1e-a6f8-482d-e903-298a70c58729"
      },
      "source": [
        "# Build cnn\n",
        "with strategy.scope():\n",
        "    tl_model = model\n",
        "print(\"tl_model architecture:\")\n",
        "tl_model.summary()"
      ],
      "execution_count": 232,
      "outputs": [
        {
          "output_type": "stream",
          "text": [
            "tl_model architecture:\n",
            "Model: \"model\"\n",
            "_________________________________________________________________\n",
            "Layer (type)                 Output Shape              Param #   \n",
            "=================================================================\n",
            "input_2 (InputLayer)         [(None, 32, 32, 3)]       0         \n",
            "_________________________________________________________________\n",
            "tf.__operators__.getitem (Sl (None, 32, 32, 3)         0         \n",
            "_________________________________________________________________\n",
            "tf.nn.bias_add (TFOpLambda)  (None, 32, 32, 3)         0         \n",
            "_________________________________________________________________\n",
            "resnet50 (Functional)        (None, 1, 1, 2048)        23587712  \n",
            "_________________________________________________________________\n",
            "global_average_pooling2d (Gl (None, 2048)              0         \n",
            "_________________________________________________________________\n",
            "dropout (Dropout)            (None, 2048)              0         \n",
            "_________________________________________________________________\n",
            "dense (Dense)                (None, 1)                 2049      \n",
            "=================================================================\n",
            "Total params: 23,589,761\n",
            "Trainable params: 2,049\n",
            "Non-trainable params: 23,587,712\n",
            "_________________________________________________________________\n"
          ],
          "name": "stdout"
        }
      ]
    },
    {
      "cell_type": "code",
      "metadata": {
        "colab": {
          "base_uri": "https://localhost:8080/"
        },
        "id": "NifVvJGrKJ8j",
        "outputId": "b3cc496d-46ec-49f1-dd6c-93c681078d02"
      },
      "source": [
        "initial_epochs = 50\n",
        "\n",
        "loss0, accuracy0 = tl_model.evaluate(validation_dataset)\n",
        "print(\"initial loss: {:.2f}\".format(loss0))\n",
        "print(\"initial accuracy: {:.2f}\".format(accuracy0))"
      ],
      "execution_count": 255,
      "outputs": [
        {
          "output_type": "stream",
          "text": [
            "17/17 [==============================] - 1s 50ms/step - loss: 0.2232 - accuracy: 0.9218\n",
            "initial loss: 0.22\n",
            "initial accuracy: 0.92\n"
          ],
          "name": "stdout"
        }
      ]
    },
    {
      "cell_type": "code",
      "metadata": {
        "colab": {
          "base_uri": "https://localhost:8080/"
        },
        "id": "e7_egoaxrTOW",
        "outputId": "f6f6514f-6266-43af-9b1d-8038389ea9be"
      },
      "source": [
        "from keras import backend as K\n",
        "print(\"Learning rate before first fit:\", model.optimizer.learning_rate.numpy())\n",
        "\n",
        "# Change learning rate to 0.0001 and train for 50 more epochs\n",
        "K.set_value(model.optimizer.learning_rate, 0.0001)\n",
        "print(\"Learning rate before second fit:\", model.optimizer.learning_rate.numpy())"
      ],
      "execution_count": 257,
      "outputs": [
        {
          "output_type": "stream",
          "text": [
            "Learning rate before first fit: 0.001\n",
            "Learning rate before second fit: 1e-04\n"
          ],
          "name": "stdout"
        }
      ]
    },
    {
      "cell_type": "code",
      "metadata": {
        "colab": {
          "base_uri": "https://localhost:8080/"
        },
        "id": "SRCCRS9HL3Cw",
        "outputId": "7f16431f-b315-4f44-c07b-59592cacae34"
      },
      "source": [
        "history = tl_model.fit(train_dataset,\n",
        "                    epochs=initial_epochs,\n",
        "                    validation_data=validation_dataset)"
      ],
      "execution_count": 258,
      "outputs": [
        {
          "output_type": "stream",
          "text": [
            "Epoch 1/50\n",
            "148/148 [==============================] - 8s 55ms/step - loss: 0.2480 - accuracy: 0.8868 - val_loss: 0.2043 - val_accuracy: 0.9179\n",
            "Epoch 2/50\n",
            "148/148 [==============================] - 8s 57ms/step - loss: 0.2501 - accuracy: 0.8915 - val_loss: 0.2050 - val_accuracy: 0.9198\n",
            "Epoch 3/50\n",
            "148/148 [==============================] - 8s 57ms/step - loss: 0.2477 - accuracy: 0.8932 - val_loss: 0.2044 - val_accuracy: 0.9179\n",
            "Epoch 4/50\n",
            "148/148 [==============================] - 8s 57ms/step - loss: 0.2519 - accuracy: 0.8889 - val_loss: 0.2059 - val_accuracy: 0.9179\n",
            "Epoch 5/50\n",
            "148/148 [==============================] - 8s 56ms/step - loss: 0.2468 - accuracy: 0.8938 - val_loss: 0.2060 - val_accuracy: 0.9179\n",
            "Epoch 6/50\n",
            "148/148 [==============================] - 8s 57ms/step - loss: 0.2457 - accuracy: 0.8885 - val_loss: 0.2058 - val_accuracy: 0.9179\n",
            "Epoch 7/50\n",
            "148/148 [==============================] - 8s 57ms/step - loss: 0.2479 - accuracy: 0.8866 - val_loss: 0.2060 - val_accuracy: 0.9179\n",
            "Epoch 8/50\n",
            "148/148 [==============================] - 8s 57ms/step - loss: 0.2472 - accuracy: 0.8936 - val_loss: 0.2051 - val_accuracy: 0.9179\n",
            "Epoch 9/50\n",
            "148/148 [==============================] - 8s 56ms/step - loss: 0.2502 - accuracy: 0.8879 - val_loss: 0.2057 - val_accuracy: 0.9198\n",
            "Epoch 10/50\n",
            "148/148 [==============================] - 8s 56ms/step - loss: 0.2430 - accuracy: 0.8944 - val_loss: 0.2050 - val_accuracy: 0.9218\n",
            "Epoch 11/50\n",
            "148/148 [==============================] - 8s 56ms/step - loss: 0.2441 - accuracy: 0.8889 - val_loss: 0.2061 - val_accuracy: 0.9179\n",
            "Epoch 12/50\n",
            "148/148 [==============================] - 8s 57ms/step - loss: 0.2458 - accuracy: 0.8874 - val_loss: 0.2063 - val_accuracy: 0.9198\n",
            "Epoch 13/50\n",
            "148/148 [==============================] - 8s 57ms/step - loss: 0.2417 - accuracy: 0.8891 - val_loss: 0.2050 - val_accuracy: 0.9218\n",
            "Epoch 14/50\n",
            "148/148 [==============================] - 8s 57ms/step - loss: 0.2430 - accuracy: 0.8929 - val_loss: 0.2045 - val_accuracy: 0.9179\n",
            "Epoch 15/50\n",
            "148/148 [==============================] - 8s 56ms/step - loss: 0.2414 - accuracy: 0.8955 - val_loss: 0.2062 - val_accuracy: 0.9198\n",
            "Epoch 16/50\n",
            "148/148 [==============================] - 9s 57ms/step - loss: 0.2443 - accuracy: 0.8893 - val_loss: 0.2063 - val_accuracy: 0.9198\n",
            "Epoch 17/50\n",
            "148/148 [==============================] - 8s 57ms/step - loss: 0.2529 - accuracy: 0.8842 - val_loss: 0.2045 - val_accuracy: 0.9198\n",
            "Epoch 18/50\n",
            "148/148 [==============================] - 8s 57ms/step - loss: 0.2489 - accuracy: 0.8891 - val_loss: 0.2043 - val_accuracy: 0.9198\n",
            "Epoch 19/50\n",
            "148/148 [==============================] - 8s 57ms/step - loss: 0.2509 - accuracy: 0.8898 - val_loss: 0.2072 - val_accuracy: 0.9198\n",
            "Epoch 20/50\n",
            "148/148 [==============================] - 8s 56ms/step - loss: 0.2517 - accuracy: 0.8881 - val_loss: 0.2056 - val_accuracy: 0.9198\n",
            "Epoch 21/50\n",
            "148/148 [==============================] - 8s 57ms/step - loss: 0.2460 - accuracy: 0.8879 - val_loss: 0.2061 - val_accuracy: 0.9179\n",
            "Epoch 22/50\n",
            "148/148 [==============================] - 9s 58ms/step - loss: 0.2435 - accuracy: 0.8912 - val_loss: 0.2073 - val_accuracy: 0.9198\n",
            "Epoch 23/50\n",
            "148/148 [==============================] - 8s 56ms/step - loss: 0.2462 - accuracy: 0.8889 - val_loss: 0.2077 - val_accuracy: 0.9179\n",
            "Epoch 24/50\n",
            "148/148 [==============================] - 8s 55ms/step - loss: 0.2487 - accuracy: 0.8889 - val_loss: 0.2059 - val_accuracy: 0.9198\n",
            "Epoch 25/50\n",
            "148/148 [==============================] - 8s 55ms/step - loss: 0.2462 - accuracy: 0.8906 - val_loss: 0.2059 - val_accuracy: 0.9198\n",
            "Epoch 26/50\n",
            "148/148 [==============================] - 8s 55ms/step - loss: 0.2445 - accuracy: 0.8921 - val_loss: 0.2055 - val_accuracy: 0.9198\n",
            "Epoch 27/50\n",
            "148/148 [==============================] - 8s 56ms/step - loss: 0.2453 - accuracy: 0.8883 - val_loss: 0.2048 - val_accuracy: 0.9218\n",
            "Epoch 28/50\n",
            "148/148 [==============================] - 8s 57ms/step - loss: 0.2507 - accuracy: 0.8912 - val_loss: 0.2056 - val_accuracy: 0.9198\n",
            "Epoch 29/50\n",
            "148/148 [==============================] - 8s 56ms/step - loss: 0.2432 - accuracy: 0.8889 - val_loss: 0.2058 - val_accuracy: 0.9198\n",
            "Epoch 30/50\n",
            "148/148 [==============================] - 9s 58ms/step - loss: 0.2488 - accuracy: 0.8889 - val_loss: 0.2058 - val_accuracy: 0.9198\n",
            "Epoch 31/50\n",
            "148/148 [==============================] - 9s 58ms/step - loss: 0.2489 - accuracy: 0.8881 - val_loss: 0.2045 - val_accuracy: 0.9198\n",
            "Epoch 32/50\n",
            "148/148 [==============================] - 8s 56ms/step - loss: 0.2481 - accuracy: 0.8912 - val_loss: 0.2049 - val_accuracy: 0.9218\n",
            "Epoch 33/50\n",
            "148/148 [==============================] - 8s 55ms/step - loss: 0.2427 - accuracy: 0.8915 - val_loss: 0.2052 - val_accuracy: 0.9179\n",
            "Epoch 34/50\n",
            "148/148 [==============================] - 8s 56ms/step - loss: 0.2447 - accuracy: 0.8915 - val_loss: 0.2061 - val_accuracy: 0.9179\n",
            "Epoch 35/50\n",
            "148/148 [==============================] - 8s 56ms/step - loss: 0.2430 - accuracy: 0.8904 - val_loss: 0.2075 - val_accuracy: 0.9198\n",
            "Epoch 36/50\n",
            "148/148 [==============================] - 8s 56ms/step - loss: 0.2455 - accuracy: 0.8940 - val_loss: 0.2051 - val_accuracy: 0.9218\n",
            "Epoch 37/50\n",
            "148/148 [==============================] - 8s 56ms/step - loss: 0.2408 - accuracy: 0.8932 - val_loss: 0.2042 - val_accuracy: 0.9198\n",
            "Epoch 38/50\n",
            "148/148 [==============================] - 8s 56ms/step - loss: 0.2479 - accuracy: 0.8868 - val_loss: 0.2046 - val_accuracy: 0.9179\n",
            "Epoch 39/50\n",
            "148/148 [==============================] - 8s 56ms/step - loss: 0.2485 - accuracy: 0.8921 - val_loss: 0.2064 - val_accuracy: 0.9198\n",
            "Epoch 40/50\n",
            "148/148 [==============================] - 8s 56ms/step - loss: 0.2465 - accuracy: 0.8912 - val_loss: 0.2081 - val_accuracy: 0.9179\n",
            "Epoch 41/50\n",
            "148/148 [==============================] - 9s 57ms/step - loss: 0.2489 - accuracy: 0.8902 - val_loss: 0.2045 - val_accuracy: 0.9198\n",
            "Epoch 42/50\n",
            "148/148 [==============================] - 9s 58ms/step - loss: 0.2418 - accuracy: 0.8915 - val_loss: 0.2055 - val_accuracy: 0.9179\n",
            "Epoch 43/50\n",
            "148/148 [==============================] - 9s 57ms/step - loss: 0.2428 - accuracy: 0.8910 - val_loss: 0.2057 - val_accuracy: 0.9198\n",
            "Epoch 44/50\n",
            "148/148 [==============================] - 8s 57ms/step - loss: 0.2459 - accuracy: 0.8895 - val_loss: 0.2058 - val_accuracy: 0.9198\n",
            "Epoch 45/50\n",
            "148/148 [==============================] - 8s 57ms/step - loss: 0.2447 - accuracy: 0.8876 - val_loss: 0.2057 - val_accuracy: 0.9198\n",
            "Epoch 46/50\n",
            "148/148 [==============================] - 8s 57ms/step - loss: 0.2485 - accuracy: 0.8874 - val_loss: 0.2056 - val_accuracy: 0.9198\n",
            "Epoch 47/50\n",
            "148/148 [==============================] - 8s 57ms/step - loss: 0.2498 - accuracy: 0.8889 - val_loss: 0.2072 - val_accuracy: 0.9198\n",
            "Epoch 48/50\n",
            "148/148 [==============================] - 8s 56ms/step - loss: 0.2418 - accuracy: 0.8908 - val_loss: 0.2060 - val_accuracy: 0.9179\n",
            "Epoch 49/50\n",
            "148/148 [==============================] - 8s 55ms/step - loss: 0.2463 - accuracy: 0.8921 - val_loss: 0.2058 - val_accuracy: 0.9198\n",
            "Epoch 50/50\n",
            "148/148 [==============================] - 8s 57ms/step - loss: 0.2503 - accuracy: 0.8851 - val_loss: 0.2061 - val_accuracy: 0.9179\n"
          ],
          "name": "stdout"
        }
      ]
    },
    {
      "cell_type": "code",
      "metadata": {
        "colab": {
          "base_uri": "https://localhost:8080/",
          "height": 513
        },
        "id": "URhTlonXL4TQ",
        "outputId": "be75b3b8-923d-4bf2-9239-3e5bac3b8e21"
      },
      "source": [
        "acc = history.history['accuracy']\n",
        "val_acc = history.history['val_accuracy']\n",
        "\n",
        "loss = history.history['loss']\n",
        "val_loss = history.history['val_loss']\n",
        "\n",
        "plt.figure(figsize=(8, 8))\n",
        "plt.subplot(2, 1, 1)\n",
        "plt.plot(acc, label='Training Accuracy')\n",
        "plt.plot(val_acc, label='Validation Accuracy')\n",
        "plt.legend(loc='lower right')\n",
        "plt.ylabel('Accuracy')\n",
        "plt.ylim([min(plt.ylim()),1])\n",
        "plt.title('Training and Validation Accuracy')\n",
        "\n",
        "plt.subplot(2, 1, 2)\n",
        "plt.plot(loss, label='Training Loss')\n",
        "plt.plot(val_loss, label='Validation Loss')\n",
        "plt.legend(loc='upper right')\n",
        "plt.ylabel('Cross Entropy')\n",
        "plt.ylim([0,1.0])\n",
        "plt.title('Training and Validation Loss')\n",
        "plt.xlabel('epoch')\n",
        "plt.show()"
      ],
      "execution_count": 259,
      "outputs": [
        {
          "output_type": "display_data",
          "data": {
            "image/png": "[encoded data removed]",
            "text/plain": [
              "<Figure size 576x576 with 2 Axes>"
            ]
          },
          "metadata": {
            "tags": [],
            "needs_background": "light"
          }
        }
      ]
    },
    {
      "cell_type": "markdown",
      "metadata": {
        "id": "-Cx0yI_4M-LK"
      },
      "source": [
        "# Fine Tuning"
      ]
    },
    {
      "cell_type": "code",
      "metadata": {
        "id": "DnO9CJY9L9Be"
      },
      "source": [
        "base_model.trainable = True"
      ],
      "execution_count": null,
      "outputs": []
    },
    {
      "cell_type": "code",
      "metadata": {
        "colab": {
          "base_uri": "https://localhost:8080/"
        },
        "id": "RpihLmQBNDCL",
        "outputId": "678e11f1-0251-40c7-dcf3-7e2edc4160d8"
      },
      "source": [
        "# Let's take a look to see how many layers are in the base model\n",
        "print(\"Number of layers in the base model: \", len(base_model.layers))\n",
        "\n",
        "# Fine-tune from this layer onwards\n",
        "fine_tune_at = 100\n",
        "\n",
        "# Freeze all the layers before the `fine_tune_at` layer\n",
        "for layer in base_model.layers[:fine_tune_at]:\n",
        "  layer.trainable =  False"
      ],
      "execution_count": null,
      "outputs": [
        {
          "output_type": "stream",
          "text": [
            "Number of layers in the base model:  175\n"
          ],
          "name": "stdout"
        }
      ]
    },
    {
      "cell_type": "code",
      "metadata": {
        "id": "c4lMXItxNEHz"
      },
      "source": [
        "model.compile(loss=tf.keras.losses.BinaryCrossentropy(from_logits=True),\n",
        "              optimizer = tf.keras.optimizers.RMSprop(learning_rate=base_learning_rate/10),\n",
        "              metrics=['accuracy'])"
      ],
      "execution_count": null,
      "outputs": []
    },
    {
      "cell_type": "code",
      "metadata": {
        "colab": {
          "base_uri": "https://localhost:8080/"
        },
        "id": "URHVegMwNGtv",
        "outputId": "fd4106d2-0350-4b2b-a101-5a62ef929a28"
      },
      "source": [
        "model.summary()"
      ],
      "execution_count": null,
      "outputs": [
        {
          "output_type": "stream",
          "text": [
            "Model: \"model\"\n",
            "_________________________________________________________________\n",
            "Layer (type)                 Output Shape              Param #   \n",
            "=================================================================\n",
            "input_2 (InputLayer)         [(None, 32, 32, 3)]       0         \n",
            "_________________________________________________________________\n",
            "tf.__operators__.getitem (Sl (None, 32, 32, 3)         0         \n",
            "_________________________________________________________________\n",
            "tf.nn.bias_add (TFOpLambda)  (None, 32, 32, 3)         0         \n",
            "_________________________________________________________________\n",
            "resnet50 (Functional)        (None, 1, 1, 2048)        23587712  \n",
            "_________________________________________________________________\n",
            "global_average_pooling2d (Gl (None, 2048)              0         \n",
            "_________________________________________________________________\n",
            "dropout (Dropout)            (None, 2048)              0         \n",
            "_________________________________________________________________\n",
            "dense (Dense)                (None, 1)                 2049      \n",
            "=================================================================\n",
            "Total params: 23,589,761\n",
            "Trainable params: 19,454,977\n",
            "Non-trainable params: 4,134,784\n",
            "_________________________________________________________________\n"
          ],
          "name": "stdout"
        }
      ]
    },
    {
      "cell_type": "code",
      "metadata": {
        "colab": {
          "base_uri": "https://localhost:8080/"
        },
        "id": "CP4hiGgBNIk1",
        "outputId": "96f56f7c-268e-477d-8b50-2b1cc2db1770"
      },
      "source": [
        "len(model.trainable_variables)"
      ],
      "execution_count": null,
      "outputs": [
        {
          "output_type": "execute_result",
          "data": {
            "text/plain": [
              "92"
            ]
          },
          "metadata": {
            "tags": []
          },
          "execution_count": 65
        }
      ]
    },
    {
      "cell_type": "code",
      "metadata": {
        "colab": {
          "base_uri": "https://localhost:8080/",
          "height": 395
        },
        "id": "MJwyL1EcNJzK",
        "outputId": "d926eba3-e5ae-4a0f-801c-c31ad5672c71"
      },
      "source": [
        "fine_tune_epochs = 10\n",
        "total_epochs =  initial_epochs + fine_tune_epochs\n",
        "\n",
        "history_fine = model.fit(train_dataset,\n",
        "                         epochs=total_epochs,\n",
        "                         initial_epoch=history.epoch[-1],\n",
        "                         validation_data=validation_dataset)"
      ],
      "execution_count": null,
      "outputs": [
        {
          "output_type": "stream",
          "text": [
            "Epoch 20/30\n",
            "  6/148 [>.............................] - ETA: 4:27 - loss: 2.7434 - accuracy: 0.5885"
          ],
          "name": "stdout"
        },
        {
          "output_type": "error",
          "ename": "KeyboardInterrupt",
          "evalue": "ignored",
          "traceback": [
            "\u001b[0;31m---------------------------------------------------------------------------\u001b[0m",
            "\u001b[0;31mKeyboardInterrupt\u001b[0m                         Traceback (most recent call last)",
            "\u001b[0;32m<ipython-input-66-b6a4c4d644fd>\u001b[0m in \u001b[0;36m<module>\u001b[0;34m()\u001b[0m\n\u001b[1;32m      5\u001b[0m                          \u001b[0mepochs\u001b[0m\u001b[0;34m=\u001b[0m\u001b[0mtotal_epochs\u001b[0m\u001b[0;34m,\u001b[0m\u001b[0;34m\u001b[0m\u001b[0;34m\u001b[0m\u001b[0m\n\u001b[1;32m      6\u001b[0m                          \u001b[0minitial_epoch\u001b[0m\u001b[0;34m=\u001b[0m\u001b[0mhistory\u001b[0m\u001b[0;34m.\u001b[0m\u001b[0mepoch\u001b[0m\u001b[0;34m[\u001b[0m\u001b[0;34m-\u001b[0m\u001b[0;36m1\u001b[0m\u001b[0;34m]\u001b[0m\u001b[0;34m,\u001b[0m\u001b[0;34m\u001b[0m\u001b[0;34m\u001b[0m\u001b[0m\n\u001b[0;32m----> 7\u001b[0;31m                          validation_data=validation_dataset)\n\u001b[0m",
            "\u001b[0;32m/usr/local/lib/python3.7/dist-packages/tensorflow/python/keras/engine/training.py\u001b[0m in \u001b[0;36mfit\u001b[0;34m(self, x, y, batch_size, epochs, verbose, callbacks, validation_split, validation_data, shuffle, class_weight, sample_weight, initial_epoch, steps_per_epoch, validation_steps, validation_batch_size, validation_freq, max_queue_size, workers, use_multiprocessing)\u001b[0m\n\u001b[1;32m   1181\u001b[0m                 _r=1):\n\u001b[1;32m   1182\u001b[0m               \u001b[0mcallbacks\u001b[0m\u001b[0;34m.\u001b[0m\u001b[0mon_train_batch_begin\u001b[0m\u001b[0;34m(\u001b[0m\u001b[0mstep\u001b[0m\u001b[0;34m)\u001b[0m\u001b[0;34m\u001b[0m\u001b[0;34m\u001b[0m\u001b[0m\n\u001b[0;32m-> 1183\u001b[0;31m               \u001b[0mtmp_logs\u001b[0m \u001b[0;34m=\u001b[0m \u001b[0mself\u001b[0m\u001b[0;34m.\u001b[0m\u001b[0mtrain_function\u001b[0m\u001b[0;34m(\u001b[0m\u001b[0miterator\u001b[0m\u001b[0;34m)\u001b[0m\u001b[0;34m\u001b[0m\u001b[0;34m\u001b[0m\u001b[0m\n\u001b[0m\u001b[1;32m   1184\u001b[0m               \u001b[0;32mif\u001b[0m \u001b[0mdata_handler\u001b[0m\u001b[0;34m.\u001b[0m\u001b[0mshould_sync\u001b[0m\u001b[0;34m:\u001b[0m\u001b[0;34m\u001b[0m\u001b[0;34m\u001b[0m\u001b[0m\n\u001b[1;32m   1185\u001b[0m                 \u001b[0mcontext\u001b[0m\u001b[0;34m.\u001b[0m\u001b[0masync_wait\u001b[0m\u001b[0;34m(\u001b[0m\u001b[0;34m)\u001b[0m\u001b[0;34m\u001b[0m\u001b[0;34m\u001b[0m\u001b[0m\n",
            "\u001b[0;32m/usr/local/lib/python3.7/dist-packages/tensorflow/python/eager/def_function.py\u001b[0m in \u001b[0;36m__call__\u001b[0;34m(self, *args, **kwds)\u001b[0m\n\u001b[1;32m    887\u001b[0m \u001b[0;34m\u001b[0m\u001b[0m\n\u001b[1;32m    888\u001b[0m       \u001b[0;32mwith\u001b[0m \u001b[0mOptionalXlaContext\u001b[0m\u001b[0;34m(\u001b[0m\u001b[0mself\u001b[0m\u001b[0;34m.\u001b[0m\u001b[0m_jit_compile\u001b[0m\u001b[0;34m)\u001b[0m\u001b[0;34m:\u001b[0m\u001b[0;34m\u001b[0m\u001b[0;34m\u001b[0m\u001b[0m\n\u001b[0;32m--> 889\u001b[0;31m         \u001b[0mresult\u001b[0m \u001b[0;34m=\u001b[0m \u001b[0mself\u001b[0m\u001b[0;34m.\u001b[0m\u001b[0m_call\u001b[0m\u001b[0;34m(\u001b[0m\u001b[0;34m*\u001b[0m\u001b[0margs\u001b[0m\u001b[0;34m,\u001b[0m \u001b[0;34m**\u001b[0m\u001b[0mkwds\u001b[0m\u001b[0;34m)\u001b[0m\u001b[0;34m\u001b[0m\u001b[0;34m\u001b[0m\u001b[0m\n\u001b[0m\u001b[1;32m    890\u001b[0m \u001b[0;34m\u001b[0m\u001b[0m\n\u001b[1;32m    891\u001b[0m       \u001b[0mnew_tracing_count\u001b[0m \u001b[0;34m=\u001b[0m \u001b[0mself\u001b[0m\u001b[0;34m.\u001b[0m\u001b[0mexperimental_get_tracing_count\u001b[0m\u001b[0;34m(\u001b[0m\u001b[0;34m)\u001b[0m\u001b[0;34m\u001b[0m\u001b[0;34m\u001b[0m\u001b[0m\n",
            "\u001b[0;32m/usr/local/lib/python3.7/dist-packages/tensorflow/python/eager/def_function.py\u001b[0m in \u001b[0;36m_call\u001b[0;34m(self, *args, **kwds)\u001b[0m\n\u001b[1;32m    915\u001b[0m       \u001b[0;31m# In this case we have created variables on the first call, so we run the\u001b[0m\u001b[0;34m\u001b[0m\u001b[0;34m\u001b[0m\u001b[0;34m\u001b[0m\u001b[0m\n\u001b[1;32m    916\u001b[0m       \u001b[0;31m# defunned version which is guaranteed to never create variables.\u001b[0m\u001b[0;34m\u001b[0m\u001b[0;34m\u001b[0m\u001b[0;34m\u001b[0m\u001b[0m\n\u001b[0;32m--> 917\u001b[0;31m       \u001b[0;32mreturn\u001b[0m \u001b[0mself\u001b[0m\u001b[0;34m.\u001b[0m\u001b[0m_stateless_fn\u001b[0m\u001b[0;34m(\u001b[0m\u001b[0;34m*\u001b[0m\u001b[0margs\u001b[0m\u001b[0;34m,\u001b[0m \u001b[0;34m**\u001b[0m\u001b[0mkwds\u001b[0m\u001b[0;34m)\u001b[0m  \u001b[0;31m# pylint: disable=not-callable\u001b[0m\u001b[0;34m\u001b[0m\u001b[0;34m\u001b[0m\u001b[0m\n\u001b[0m\u001b[1;32m    918\u001b[0m     \u001b[0;32melif\u001b[0m \u001b[0mself\u001b[0m\u001b[0;34m.\u001b[0m\u001b[0m_stateful_fn\u001b[0m \u001b[0;32mis\u001b[0m \u001b[0;32mnot\u001b[0m \u001b[0;32mNone\u001b[0m\u001b[0;34m:\u001b[0m\u001b[0;34m\u001b[0m\u001b[0;34m\u001b[0m\u001b[0m\n\u001b[1;32m    919\u001b[0m       \u001b[0;31m# Release the lock early so that multiple threads can perform the call\u001b[0m\u001b[0;34m\u001b[0m\u001b[0;34m\u001b[0m\u001b[0;34m\u001b[0m\u001b[0m\n",
            "\u001b[0;32m/usr/local/lib/python3.7/dist-packages/tensorflow/python/eager/function.py\u001b[0m in \u001b[0;36m__call__\u001b[0;34m(self, *args, **kwargs)\u001b[0m\n\u001b[1;32m   3022\u001b[0m        filtered_flat_args) = self._maybe_define_function(args, kwargs)\n\u001b[1;32m   3023\u001b[0m     return graph_function._call_flat(\n\u001b[0;32m-> 3024\u001b[0;31m         filtered_flat_args, captured_inputs=graph_function.captured_inputs)  # pylint: disable=protected-access\n\u001b[0m\u001b[1;32m   3025\u001b[0m \u001b[0;34m\u001b[0m\u001b[0m\n\u001b[1;32m   3026\u001b[0m   \u001b[0;34m@\u001b[0m\u001b[0mproperty\u001b[0m\u001b[0;34m\u001b[0m\u001b[0;34m\u001b[0m\u001b[0m\n",
            "\u001b[0;32m/usr/local/lib/python3.7/dist-packages/tensorflow/python/eager/function.py\u001b[0m in \u001b[0;36m_call_flat\u001b[0;34m(self, args, captured_inputs, cancellation_manager)\u001b[0m\n\u001b[1;32m   1959\u001b[0m       \u001b[0;31m# No tape is watching; skip to running the function.\u001b[0m\u001b[0;34m\u001b[0m\u001b[0;34m\u001b[0m\u001b[0;34m\u001b[0m\u001b[0m\n\u001b[1;32m   1960\u001b[0m       return self._build_call_outputs(self._inference_function.call(\n\u001b[0;32m-> 1961\u001b[0;31m           ctx, args, cancellation_manager=cancellation_manager))\n\u001b[0m\u001b[1;32m   1962\u001b[0m     forward_backward = self._select_forward_and_backward_functions(\n\u001b[1;32m   1963\u001b[0m         \u001b[0margs\u001b[0m\u001b[0;34m,\u001b[0m\u001b[0;34m\u001b[0m\u001b[0;34m\u001b[0m\u001b[0m\n",
            "\u001b[0;32m/usr/local/lib/python3.7/dist-packages/tensorflow/python/eager/function.py\u001b[0m in \u001b[0;36mcall\u001b[0;34m(self, ctx, args, cancellation_manager)\u001b[0m\n\u001b[1;32m    594\u001b[0m               \u001b[0minputs\u001b[0m\u001b[0;34m=\u001b[0m\u001b[0margs\u001b[0m\u001b[0;34m,\u001b[0m\u001b[0;34m\u001b[0m\u001b[0;34m\u001b[0m\u001b[0m\n\u001b[1;32m    595\u001b[0m               \u001b[0mattrs\u001b[0m\u001b[0;34m=\u001b[0m\u001b[0mattrs\u001b[0m\u001b[0;34m,\u001b[0m\u001b[0;34m\u001b[0m\u001b[0;34m\u001b[0m\u001b[0m\n\u001b[0;32m--> 596\u001b[0;31m               ctx=ctx)\n\u001b[0m\u001b[1;32m    597\u001b[0m         \u001b[0;32melse\u001b[0m\u001b[0;34m:\u001b[0m\u001b[0;34m\u001b[0m\u001b[0;34m\u001b[0m\u001b[0m\n\u001b[1;32m    598\u001b[0m           outputs = execute.execute_with_cancellation(\n",
            "\u001b[0;32m/usr/local/lib/python3.7/dist-packages/tensorflow/python/eager/execute.py\u001b[0m in \u001b[0;36mquick_execute\u001b[0;34m(op_name, num_outputs, inputs, attrs, ctx, name)\u001b[0m\n\u001b[1;32m     58\u001b[0m     \u001b[0mctx\u001b[0m\u001b[0;34m.\u001b[0m\u001b[0mensure_initialized\u001b[0m\u001b[0;34m(\u001b[0m\u001b[0;34m)\u001b[0m\u001b[0;34m\u001b[0m\u001b[0;34m\u001b[0m\u001b[0m\n\u001b[1;32m     59\u001b[0m     tensors = pywrap_tfe.TFE_Py_Execute(ctx._handle, device_name, op_name,\n\u001b[0;32m---> 60\u001b[0;31m                                         inputs, attrs, num_outputs)\n\u001b[0m\u001b[1;32m     61\u001b[0m   \u001b[0;32mexcept\u001b[0m \u001b[0mcore\u001b[0m\u001b[0;34m.\u001b[0m\u001b[0m_NotOkStatusException\u001b[0m \u001b[0;32mas\u001b[0m \u001b[0me\u001b[0m\u001b[0;34m:\u001b[0m\u001b[0;34m\u001b[0m\u001b[0;34m\u001b[0m\u001b[0m\n\u001b[1;32m     62\u001b[0m     \u001b[0;32mif\u001b[0m \u001b[0mname\u001b[0m \u001b[0;32mis\u001b[0m \u001b[0;32mnot\u001b[0m \u001b[0;32mNone\u001b[0m\u001b[0;34m:\u001b[0m\u001b[0;34m\u001b[0m\u001b[0;34m\u001b[0m\u001b[0m\n",
            "\u001b[0;31mKeyboardInterrupt\u001b[0m: "
          ]
        }
      ]
    },
    {
      "cell_type": "code",
      "metadata": {
        "id": "w2q5T0EsNLT2"
      },
      "source": [
        "acc += history_fine.history['accuracy']\n",
        "val_acc += history_fine.history['val_accuracy']\n",
        "\n",
        "loss += history_fine.history['loss']\n",
        "val_loss += history_fine.history['val_loss']"
      ],
      "execution_count": null,
      "outputs": []
    },
    {
      "cell_type": "code",
      "metadata": {
        "colab": {
          "base_uri": "https://localhost:8080/",
          "height": 513
        },
        "id": "VIDo_etyNNPZ",
        "outputId": "3031fb85-ccc2-4d39-c83d-59e16681a993"
      },
      "source": [
        "plt.figure(figsize=(8, 8))\n",
        "plt.subplot(2, 1, 1)\n",
        "plt.plot(acc, label='Training Accuracy')\n",
        "plt.plot(val_acc, label='Validation Accuracy')\n",
        "plt.ylim([0.7, 1])\n",
        "plt.plot([initial_epochs-1,initial_epochs-1],\n",
        "          plt.ylim(), label='Start Fine Tuning')\n",
        "plt.legend(loc='lower right')\n",
        "plt.title('Training and Validation Accuracy')\n",
        "\n",
        "plt.subplot(2, 1, 2)\n",
        "plt.plot(loss, label='Training Loss')\n",
        "plt.plot(val_loss, label='Validation Loss')\n",
        "plt.ylim([0, 1.0])\n",
        "plt.plot([initial_epochs-1,initial_epochs-1],\n",
        "         plt.ylim(), label='Start Fine Tuning')\n",
        "plt.legend(loc='upper right')\n",
        "plt.title('Training and Validation Loss')\n",
        "plt.xlabel('epoch')\n",
        "plt.show()"
      ],
      "execution_count": null,
      "outputs": [
        {
          "output_type": "display_data",
          "data": {
            "image/png": "[encoded data removed]",
            "text/plain": [
              "<Figure size 576x576 with 2 Axes>"
            ]
          },
          "metadata": {
            "tags": [],
            "needs_background": "light"
          }
        }
      ]
    },
    {
      "cell_type": "markdown",
      "metadata": {
        "id": "KCZ-OD7rbaj3"
      },
      "source": [
        "# Save TPU model"
      ]
    },
    {
      "cell_type": "code",
      "metadata": {
        "colab": {
          "base_uri": "https://localhost:8080/"
        },
        "id": "vnFSsw0bbako",
        "outputId": "23632a21-0e7e-46c0-ffe5-89bb52877e23"
      },
      "source": [
        "tl_model.save('/content/drive/MyDrive/Colab Notebooks/tl_model/tl_model_300eps_0_001_lr50.h5', overwrite=True)"
      ],
      "execution_count": 260,
      "outputs": [
        {
          "output_type": "stream",
          "text": [
            "/usr/local/lib/python3.7/dist-packages/tensorflow/python/keras/utils/generic_utils.py:497: CustomMaskWarning: Custom mask layers require a config and must override get_config. When loading, the custom mask layer must be passed to the custom_objects argument.\n",
            "  category=CustomMaskWarning)\n"
          ],
          "name": "stderr"
        }
      ]
    },
    {
      "cell_type": "markdown",
      "metadata": {
        "id": "gtWsRglsbakr"
      },
      "source": [
        "# Load TPU model"
      ]
    },
    {
      "cell_type": "code",
      "metadata": {
        "id": "6u2NzVA9baks"
      },
      "source": [
        "tl_model = tf.keras.models.load_model('/content/drive/MyDrive/Colab Notebooks/tl_model/tl_model_300eps_0_001_lr50.h5')"
      ],
      "execution_count": 268,
      "outputs": []
    },
    {
      "cell_type": "markdown",
      "metadata": {
        "id": "JSGf0KvrVjJw"
      },
      "source": [
        "# Evaluate model"
      ]
    },
    {
      "cell_type": "code",
      "metadata": {
        "colab": {
          "base_uri": "https://localhost:8080/"
        },
        "id": "FsegBQVIkNO5",
        "outputId": "f4af7559-8283-4dad-92b3-79614179aac4"
      },
      "source": [
        "loss_, accuracy_ = tl_model.evaluate(train_dataset)\n",
        "print('Test accuracy :', accuracy_)"
      ],
      "execution_count": 269,
      "outputs": [
        {
          "output_type": "stream",
          "text": [
            "148/148 [==============================] - 8s 50ms/step - loss: 0.2145 - accuracy: 0.9108\n",
            "Test accuracy : 0.9107901453971863\n"
          ],
          "name": "stdout"
        }
      ]
    },
    {
      "cell_type": "code",
      "metadata": {
        "colab": {
          "base_uri": "https://localhost:8080/"
        },
        "id": "5G-PsmLgNOyl",
        "outputId": "1d3f15c4-412b-4bbe-a0d1-a079b335eaad"
      },
      "source": [
        "loss_, accuracy_ = tl_model.evaluate(validation_dataset)\n",
        "print('Test accuracy :', accuracy_)"
      ],
      "execution_count": 262,
      "outputs": [
        {
          "output_type": "stream",
          "text": [
            "17/17 [==============================] - 1s 70ms/step - loss: 0.2061 - accuracy: 0.9179\n",
            "Test accuracy : 0.9179389476776123\n"
          ],
          "name": "stdout"
        }
      ]
    },
    {
      "cell_type": "code",
      "metadata": {
        "colab": {
          "base_uri": "https://localhost:8080/"
        },
        "id": "s7Ha98Cn5sj2",
        "outputId": "6a5edcb2-aacc-400f-8182-21309e46c3de"
      },
      "source": [
        "loss_, accuracy_ = tl_model.evaluate(test_dataset)\n",
        "print('Test accuracy :', accuracy_)"
      ],
      "execution_count": 270,
      "outputs": [
        {
          "output_type": "stream",
          "text": [
            "20/20 [==============================] - 1s 50ms/step - loss: 0.4244 - accuracy: 0.8365\n",
            "Test accuracy : 0.8365384340286255\n"
          ],
          "name": "stdout"
        }
      ]
    },
    {
      "cell_type": "code",
      "metadata": {
        "colab": {
          "base_uri": "https://localhost:8080/",
          "height": 664
        },
        "id": "21Q3n7nMNQIP",
        "outputId": "720ee970-3931-4b97-ad3e-573a1ed15cbb"
      },
      "source": [
        "#Retrieve a batch of images from the test set\n",
        "image_batch, label_batch = test_dataset.as_numpy_iterator().next()\n",
        "predictions = tl_model.predict_on_batch(image_batch).flatten()\n",
        "\n",
        "# Apply a sigmoid since our model returns logits\n",
        "predictions = tf.nn.sigmoid(predictions)\n",
        "predictions = tf.where(predictions < 0.5, 0, 1)\n",
        "\n",
        "print('Predictions:\\n', predictions.numpy())\n",
        "print('Labels:\\n', label_batch.ravel())\n",
        "\n",
        "plt.figure(figsize=(10, 10))\n",
        "for i in range(9):\n",
        "  ax = plt.subplot(3, 3, i + 1)\n",
        "  plt.imshow(image_batch[i])\n",
        "  plt.title([\"pred: \" + str(predictions.numpy()[i]), \"true: \"+ str(label_batch.ravel()[i])])\n",
        "  plt.axis(\"off\")"
      ],
      "execution_count": 276,
      "outputs": [
        {
          "output_type": "stream",
          "text": [
            "Predictions:\n",
            " [1 1 1 0 1 1 1 1 1 1 1 1 1 1 1 1 1 1 1 0 0 1 1 1 1 0 1 1 0 1 1 1]\n",
            "Labels:\n",
            " [1 0 1 0 1 1 1 1 1 0 1 1 1 1 1 1 1 1 1 0 0 1 1 1 1 0 1 0 0 1 0 1]\n"
          ],
          "name": "stdout"
        },
        {
          "output_type": "display_data",
          "data": {
            "image/png": "[encoded data removed]",
            "text/plain": [
              "<Figure size 720x720 with 9 Axes>"
            ]
          },
          "metadata": {
            "tags": [],
            "needs_background": "light"
          }
        }
      ]
    },
    {
      "cell_type": "markdown",
      "metadata": {
        "id": "-Iow3TSTlJNt"
      },
      "source": [
        "# Another Approach"
      ]
    }
  ]
}